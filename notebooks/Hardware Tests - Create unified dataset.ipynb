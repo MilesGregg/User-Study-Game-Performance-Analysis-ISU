{
 "cells": [
  {
   "cell_type": "code",
   "execution_count": 158,
   "id": "902816c9-9dc3-4292-af0c-5b90d3426e39",
   "metadata": {},
   "outputs": [],
   "source": [
    "from glob import glob\n",
    "import os\n",
    "\n",
    "root = '../data/raw/hardware-data/'\n",
    "\n",
    "def getFilenams(csv_filename):\n",
    "    # Get test name\n",
    "    group_name = os.path.basename(csv_filename).split('_')[2:4]\n",
    "    group_name = '_'.join(group_name).split('.')[0]\n",
    "    # Compute filenames\n",
    "    hardware_log = 'hardware_log_' + group_name + '.csv' \n",
    "    hardware_specs = 'hardware_' + group_name + '.json' \n",
    "    metrics = 'metrics_' + group_name + '.json' \n",
    "    return (hardware_log, hardware_specs, metrics)\n",
    "\n",
    "tests = []\n",
    "for test_group in glob(root + '*.csv'):\n",
    "    (hwlog, hwspecs, metrics) = getFilenams(test_group)\n",
    "    tests.append((hwlog, hwspecs, metrics))"
   ]
  },
  {
   "cell_type": "code",
   "execution_count": 159,
   "id": "4ccfd08c-82df-417d-b13f-a0b8315b286d",
   "metadata": {},
   "outputs": [],
   "source": [
    "def cpuInfoToModel(info):\n",
    "    if 'Intel64 Family 6 Model 94 Stepping 3' in info:\n",
    "        return 'i5-6500 @ 3.20GHz'\n",
    "    elif 'Intel64 Family 6 Model 158 Stepping 9' in info:\n",
    "        return 'i5-7600 @ 3.5GHz'\n",
    "    else:\n",
    "        return info\n",
    "def fixGPUName(gpu):\n",
    "    if 'GeForce GTX 960' in gpu:\n",
    "        return 'GTX 960'\n",
    "    if 'AMD Radeon HD 6800 Series' in gpu:\n",
    "        return 'Radeon HD 6800'\n",
    "    else: return gpu\n",
    "    \n",
    "def storageRename(storage):\n",
    "    if storage == 'CT500MX500SSD1':\n",
    "        return 'SSD'\n",
    "    if storage == 'ST2000DM001-9YN164':\n",
    "        return 'HDD'\n",
    "    else: return storage\n",
    "    "
   ]
  },
  {
   "cell_type": "code",
   "execution_count": 160,
   "id": "196ea96b-9894-498e-bded-7fe52d647bde",
   "metadata": {},
   "outputs": [],
   "source": [
    "from datetime import datetime, timedelta\n",
    "\n",
    "def getHardwareLog(start_date, end_date, hwlogpath):\n",
    "    df = pd.read_csv(hwlogpath, header=[1])\n",
    "    df['Time'] = pd.to_datetime(df['Time'])  \n",
    "    mask = (df['Time'] >= start_date) & (df['Time'] <= end_date)\n",
    "    segment = df.loc[mask]\n",
    "    minimized = pd.DataFrame()\n",
    "    minimized['Time'] = segment['Time']\n",
    "    minimized['CPU Total'] = segment['CPU Total']\n",
    "    minimized['GPU Core'] = segment['GPU Core']\n",
    "    return minimized\n",
    "    \n",
    "def getBostonTimes(init_datetime, total_time):\n",
    "    # -5 to adjust for timezone boston vs utc     \n",
    "    init_datetime_boston = init_datetime - timedelta(hours=5)\n",
    "    end_datetime_boston = init_datetime_boston + timedelta(seconds=total_time)\n",
    "    return (init_datetime_boston.strftime('%Y/%m/%d %H:%M:%S'), end_datetime_boston.strftime('%Y/%m/%d %H:%M:%S'))    \n",
    "\n",
    "def computeHWLogMetrics(metrics_df, hwlogpath):\n",
    "    aggregate = pd.DataFrame()\n",
    "    for index, iteration in metrics_df.iterrows():\n",
    "        game = iteration['game_name']\n",
    "        start, end = getBostonTimes(iteration['init_time'], iteration['total_time'])\n",
    "        hw_df = getHardwareLog(start, end, hwlogpath)\n",
    "        aggregate = aggregate.append(hw_df, ignore_index=True)\n",
    "        if iteration['it'] == 9:\n",
    "            # Save the iteration set for the game\n",
    "            filename = '_'.join([game, iteration['CPU'], iteration['GPU'], iteration['storage']]) + '.csv'\n",
    "            aggregate['idx'] = np.arange(len(aggregate)) \n",
    "            aggregate.to_csv('../data/interim/hardware-data/main/' + filename)\n",
    "            aggregate = pd.DataFrame()"
   ]
  },
  {
   "cell_type": "code",
   "execution_count": 161,
   "id": "1abbbd0e-01df-486d-b4a8-b258bcd587a6",
   "metadata": {},
   "outputs": [],
   "source": [
    "import pandas as pd\n",
    "import json\n",
    "import numpy as np\n",
    "\n",
    "config_id = 0\n",
    "aggregate_df =  pd.DataFrame()\n",
    "for (hwlogpath, hwspecspath, metricspath) in tests:\n",
    "    f = open(root + hwspecspath)\n",
    "    hw_specs = json.load(f)\n",
    "    cpu = hw_specs['CPU']['cpu']\n",
    "    gpu = hw_specs['GPUs'][0]['name']\n",
    "    drives = hw_specs['drives']\n",
    "    storage_drive = [drive['model'] for drive in drives if drive['interface'] == 'IDE'][0]\n",
    "    df = pd.read_json(root + metricspath)\n",
    "    # Filter out bad points wich are recomputed as extra iterations\n",
    "    df = df[df['total_time'] < 200]\n",
    "    df['it'] = np.arange(len(df)) % 10\n",
    "    df['GPU'] = fixGPUName(gpu)\n",
    "    df['CPU'] = cpuInfoToModel(cpu)\n",
    "    df['storage'] = storageRename(storage_drive)\n",
    "    df['config_id'] = config_id\n",
    "    config_id += 1\n",
    "\n",
    "    aggregate_df = aggregate_df.append(df, ignore_index=True)\n",
    "    \n",
    "    computeHWLogMetrics(df, root + hwlogpath)"
   ]
  },
  {
   "cell_type": "code",
   "execution_count": 162,
   "id": "2e95d9b0-3772-4232-830a-8e609dfcc16f",
   "metadata": {},
   "outputs": [],
   "source": [
    "aggregate_df.to_json('../data/interim/hardware-data/main/aggregate_hw_metrics.json')"
   ]
  },
  {
   "cell_type": "code",
   "execution_count": 163,
   "id": "1c284ed1-63c8-478d-9ee2-68f50d7f03fd",
   "metadata": {},
   "outputs": [],
   "source": [
    "aggregate_df.to_csv('../data/interim/hardware-data/main/aggregate_hw_metrics.csv')"
   ]
  },
  {
   "cell_type": "code",
   "execution_count": null,
   "id": "120b46b7-2d0e-401c-9f52-2d707d1a676e",
   "metadata": {},
   "outputs": [],
   "source": []
  }
 ],
 "metadata": {
  "kernelspec": {
   "display_name": "Python 3 (ipykernel)",
   "language": "python",
   "name": "python3"
  },
  "language_info": {
   "codemirror_mode": {
    "name": "ipython",
    "version": 3
   },
   "file_extension": ".py",
   "mimetype": "text/x-python",
   "name": "python",
   "nbconvert_exporter": "python",
   "pygments_lexer": "ipython3",
   "version": "3.8.12"
  }
 },
 "nbformat": 4,
 "nbformat_minor": 5
}
