{
 "cells": [
  {
   "cell_type": "code",
   "execution_count": 34,
   "id": "2c5c332a-849a-41d4-b267-c85dfa35486c",
   "metadata": {},
   "outputs": [],
   "source": [
    "# [load, level]\n",
    "times = {\n",
    "    'odyssey': [49.6, 37.04],\n",
    "    'fortnite': [38.4, 24.64],\n",
    "    'minecraft': [25.92, 10.4],\n",
    "    'gta': [50.08, 35.04],\n",
    "    'hearthstone': [16.64, 13.2],\n",
    "    'civ6': [32.96, 40],\n",
    "    'apex': [48.64, 36.16],\n",
    "    'overwatch': [11.84, 8.64],\n",
    "    'csgo': [16.8, 31.2],\n",
    "    'rainbow6': [65.44, 23.68],\n",
    "    'lol': [16.64, 22.88],\n",
    "    'pubg': [26.34, 28.98]\n",
    "}"
   ]
  },
  {
   "cell_type": "code",
   "execution_count": 35,
   "id": "1d5f976b-bf86-423a-9e6e-77c8b50b5211",
   "metadata": {},
   "outputs": [
    {
     "name": "stdout",
     "output_type": "stream",
     "text": [
      "Error reading file ../data/raw/uncompressed/10-11-2021_14_45_05_B/output3.json\n"
     ]
    }
   ],
   "source": [
    "from glob import glob\n",
    "import json\n",
    "\n",
    "src_path = '../data/raw/uncompressed/*/*.json'\n",
    "\n",
    "data = []\n",
    "\n",
    "for filepath in glob(src_path):\n",
    "    if ('output0.json' in filepath):\n",
    "        continue\n",
    "    file = open(filepath)\n",
    "    try:\n",
    "        userdata = json.load(file)[0]\n",
    "        for sample in userdata:\n",
    "            info = sample['KEI'].split('_')\n",
    "            sample['Game'] = info[0]\n",
    "            sample['Type'] = info[1]\n",
    "            sample['Speed'] = int(info[2].split('.mp4')[0])\n",
    "            if (info[1] == 'load'):\n",
    "                sample['Time'] = times[sample['Game']][0]\n",
    "            else: \n",
    "                sample['Time'] = times[sample['Game']][1]                \n",
    "            data.append(sample)\n",
    "    except:\n",
    "        print(\"Error reading file \" + filepath)"
   ]
  },
  {
   "cell_type": "code",
   "execution_count": 36,
   "id": "a9a1383d-6510-49dc-89e8-0d5025517797",
   "metadata": {},
   "outputs": [],
   "source": [
    "import pandas as pd\n",
    "df = pd.DataFrame(columns=['KEI', 'Game', 'Type', 'Speed', 'Experience', 'Acceptable', 'Time'])\n",
    "for entry in data: \n",
    "    df = df.append(entry, ignore_index=True)"
   ]
  },
  {
   "cell_type": "code",
   "execution_count": 37,
   "id": "9f2c061a-9eee-4d87-abd8-da48037f44a0",
   "metadata": {},
   "outputs": [],
   "source": [
    "df.to_csv('../data/interim/data.csv', index=False)"
   ]
  },
  {
   "cell_type": "code",
   "execution_count": null,
   "id": "4d03d7f5-4de3-40ca-9116-8090e75540d1",
   "metadata": {},
   "outputs": [],
   "source": []
  }
 ],
 "metadata": {
  "kernelspec": {
   "display_name": "Python 3",
   "language": "python",
   "name": "python3"
  },
  "language_info": {
   "codemirror_mode": {
    "name": "ipython",
    "version": 3
   },
   "file_extension": ".py",
   "mimetype": "text/x-python",
   "name": "python",
   "nbconvert_exporter": "python",
   "pygments_lexer": "ipython3",
   "version": "3.8.8"
  }
 },
 "nbformat": 4,
 "nbformat_minor": 5
}
