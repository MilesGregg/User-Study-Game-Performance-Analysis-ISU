{
 "cells": [
  {
   "cell_type": "code",
   "execution_count": 27,
   "id": "1d5f976b-bf86-423a-9e6e-77c8b50b5211",
   "metadata": {},
   "outputs": [
    {
     "name": "stdout",
     "output_type": "stream",
     "text": [
      "Error reading file ../data/raw/uncompressed/10-11-2021_14_45_05_B/output3.json\n"
     ]
    }
   ],
   "source": [
    "from glob import glob\n",
    "import json\n",
    "\n",
    "src_path = '../data/raw/uncompressed/*/*.json'\n",
    "\n",
    "data = []\n",
    "\n",
    "for filepath in glob(src_path):\n",
    "    if ('output0.json' in filepath):\n",
    "        continue\n",
    "    file = open(filepath)\n",
    "    try:\n",
    "        userdata = json.load(file)[0]\n",
    "        for sample in userdata:\n",
    "            info = sample['KEI'].split('_')\n",
    "            sample['Game'] = info[0]\n",
    "            sample['Type'] = info[1]\n",
    "            sample['Speed'] = int(info[2].split('.mp4')[0])\n",
    "            data.append(sample)\n",
    "    except:\n",
    "        print(\"Error reading file \" + filepath)"
   ]
  },
  {
   "cell_type": "code",
   "execution_count": 29,
   "id": "a9a1383d-6510-49dc-89e8-0d5025517797",
   "metadata": {},
   "outputs": [],
   "source": [
    "import pandas as pd\n",
    "df = pd.DataFrame(columns=['KEI', 'Game', 'Type', 'Speed', 'Experience', 'Acceptable'])\n",
    "for entry in data: \n",
    "    df = df.append(entry, ignore_index=True)"
   ]
  },
  {
   "cell_type": "code",
   "execution_count": 30,
   "id": "9f2c061a-9eee-4d87-abd8-da48037f44a0",
   "metadata": {},
   "outputs": [],
   "source": [
    "df.to_csv('../data/interim/data.csv', index=False)"
   ]
  }
 ],
 "metadata": {
  "kernelspec": {
   "display_name": "Python 3",
   "language": "python",
   "name": "python3"
  },
  "language_info": {
   "codemirror_mode": {
    "name": "ipython",
    "version": 3
   },
   "file_extension": ".py",
   "mimetype": "text/x-python",
   "name": "python",
   "nbconvert_exporter": "python",
   "pygments_lexer": "ipython3",
   "version": "3.8.8"
  }
 },
 "nbformat": 4,
 "nbformat_minor": 5
}
