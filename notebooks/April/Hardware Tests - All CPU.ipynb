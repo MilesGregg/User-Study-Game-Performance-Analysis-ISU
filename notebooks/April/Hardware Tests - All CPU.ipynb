{
 "cells": [
  {
   "cell_type": "code",
   "execution_count": 33,
   "metadata": {},
   "outputs": [],
   "source": [
    "import pandas as pd\n",
    "import matplotlib.pyplot as plt\n",
    "from matplotlib.pyplot import figure\n",
    "import numpy as np\n",
    "from sklearn.metrics import r2_score\n",
    "import glob\n",
    "\n",
    "directory = '../../data/raw'\n",
    " \n",
    "#for path in glob.glob(f'{rootdir}/*/'):\n",
    "\n",
    "labels = []\n",
    "level_means = []\n",
    "load_means = []\n",
    "\n",
    "for filename in glob.iglob(f'{directory}/*/'):\n",
    "    for filename2 in glob.iglob(f'{filename}/*'):\n",
    "        split = filename2.split(\"\\\\\")\n",
    "        new = split[-1]\n",
    "        #print(split[-2])\n",
    "        if new.startswith(\"metrics\") and new.endswith(\"csv\"):\n",
    "            df = pd.read_csv(filename2)\n",
    "\n",
    "            labels.append(split[-2])\n",
    "            \n",
    "            level_means.append(df['level'].mean())\n",
    "            load_means.append(df['load'].mean())\n",
    "\n",
    "\n",
    "            #print(new)\n",
    "        else:\n",
    "            continue\n",
    "        '''df = pd.read_csv('../../data/raw/G10-6700-SSD/metrics_03-20-22_04-19-50.csv')\n",
    "\n",
    "        level_times = df['level'].mean()\n",
    "        load_times = df['load'].mean()'''\n",
    "\n",
    "        #print(new)\n",
    "\n",
    "\n",
    "#print(level_times)\n",
    "#print(load_times)"
   ]
  },
  {
   "cell_type": "code",
   "execution_count": 38,
   "metadata": {},
   "outputs": [
    {
     "data": {
      "image/png": "[encoded data removed]",
      "text/plain": [
       "<Figure size 432x288 with 1 Axes>"
      ]
     },
     "metadata": {
      "needs_background": "light"
     },
     "output_type": "display_data"
    },
    {
     "data": {
      "text/plain": [
       "<Figure size 576x576 with 0 Axes>"
      ]
     },
     "metadata": {},
     "output_type": "display_data"
    }
   ],
   "source": [
    "width = 0.35       # the width of the bars: can also be len(x) sequence\n",
    "\n",
    "fig, ax = plt.subplots()\n",
    "\n",
    "plt.figure(figsize=(8,8))\n",
    "\n",
    "ax.bar(labels, level_means, width, label='Level')\n",
    "ax.bar(labels, load_means, width, bottom=level_means, label='Load')\n",
    "\n",
    "ax.set_ylabel('Times')\n",
    "ax.set_title('Times by Level and Load')\n",
    "ax.legend()\n",
    "\n",
    "plt.show()"
   ]
  }
 ],
 "metadata": {
  "interpreter": {
   "hash": "6f49874e70d65f3ad41d30fdc4564a87c0f9ee1662c3c57c6ddd6b2e48d08ee9"
  },
  "kernelspec": {
   "display_name": "Python 3.8.7 64-bit",
   "language": "python",
   "name": "python3"
  },
  "language_info": {
   "codemirror_mode": {
    "name": "ipython",
    "version": 3
   },
   "file_extension": ".py",
   "mimetype": "text/x-python",
   "name": "python",
   "nbconvert_exporter": "python",
   "pygments_lexer": "ipython3",
   "version": "3.8.7"
  },
  "orig_nbformat": 4
 },
 "nbformat": 4,
 "nbformat_minor": 2
}
